{
 "cells": [
  {
   "cell_type": "code",
   "execution_count": 1,
   "id": "initial_id",
   "metadata": {
    "collapsed": true,
    "ExecuteTime": {
     "end_time": "2024-02-28T12:53:51.235910800Z",
     "start_time": "2024-02-28T12:53:51.224083100Z"
    }
   },
   "outputs": [
    {
     "name": "stdout",
     "output_type": "stream",
     "text": [
      "<class 'int'>\n",
      "<class 'float'>\n",
      "<class 'int'>\n",
      "<class 'float'>\n",
      "<class 'str'>\n",
      "<class 'bool'>\n",
      "<class 'bool'>\n",
      "<class 'complex'>\n"
     ]
    }
   ],
   "source": [
    "from bs4 import element\n",
    "\n",
    "a = 10\n",
    "print(type(a))  # int\n",
    "b = 10.0\n",
    "print(type(b))  # float\n",
    "print(type(123))  # int\n",
    "print(type(123.0))  # float\n",
    "print(type(\"123\"))  # str\n",
    "print(type(True))  # bool\n",
    "print(type(10 == 29))  # bool\n",
    "print(type(1 + 2j))  # complex  "
   ]
  },
  {
   "cell_type": "markdown",
   "source": [
    "# Stack"
   ],
   "metadata": {
    "collapsed": false
   },
   "id": "3c38a603d794efda"
  },
  {
   "cell_type": "code",
   "outputs": [],
   "source": [
    "import sys\n",
    "from typing import Union\n",
    "\n",
    "class Stack:\n",
    "    def __init__(self, capacity: int) -> None:\n",
    "        self.capacity = capacity\n",
    "        self.array = [None] * capacity\n",
    "        self.top = -1\n",
    "\n",
    "    def is_empty(self) -> bool:\n",
    "        return self.top == -1\n",
    "\n",
    "    def is_full(self) -> bool:\n",
    "        return self.top == self.capacity - 1\n",
    "    \n",
    "    def push(self, element: Union[int, float, str, bool]) -> None:\n",
    "        if not self.is_full():\n",
    "            self.top += 1\n",
    "            self.array[self.top] = element\n",
    "        else:\n",
    "            sys.exit(\"Stack overflow!\")\n",
    "            \n",
    "    def pop(self) -> Union[int, float, str, bool]:\n",
    "        if not self.is_empty():\n",
    "            self.top -= 1\n",
    "            popped_element = self.array[self.top + 1]\n",
    "            self.array[self.top + 1] = None\n",
    "            return popped_element\n",
    "        else:\n",
    "            sys.exit(\"Stack underflow!\")\n",
    "    \n",
    "    def peek(self) -> Union[int, float, str, bool]:\n",
    "        if not self.is_empty():\n",
    "            return self.array[self.top]\n",
    "        else:\n",
    "            print(\"Stack is empty.\")\n",
    "            \n",
    "    def size(self) -> int:\n",
    "        return self.top + 1\n",
    "    \n",
    "    def clear(self) -> None:\n",
    "        self.top = -1\n",
    "        self.array = [None] * self.capacity\n",
    "    "
   ],
   "metadata": {
    "collapsed": false,
    "ExecuteTime": {
     "end_time": "2024-02-28T13:41:15.682783600Z",
     "start_time": "2024-02-28T13:41:15.669802400Z"
    }
   },
   "id": "2bb0459c0c70129a",
   "execution_count": 2
  },
  {
   "cell_type": "code",
   "outputs": [
    {
     "name": "stdout",
     "output_type": "stream",
     "text": [
      "문자열 출력: .다니습갑반 .요세하녕안"
     ]
    }
   ],
   "source": [
    "s = Stack(100)\n",
    "\n",
    "msg = input(\"문자열 입력: \")\n",
    "for char in msg:\n",
    "    s.push(char)\n",
    "\n",
    "print(\"문자열 출력: \", end='')\n",
    "while not s.is_empty():\n",
    "    print(s.pop(), end='')"
   ],
   "metadata": {
    "collapsed": false,
    "ExecuteTime": {
     "end_time": "2024-02-28T14:32:37.784207300Z",
     "start_time": "2024-02-28T14:32:28.794330200Z"
    }
   },
   "id": "78acbc8a7be7d148",
   "execution_count": 14
  },
  {
   "cell_type": "code",
   "outputs": [],
   "source": [
    "def check_brackets(statement: str) -> bool:\n",
    "    stack = Stack(100)\n",
    "    for char in statement:\n",
    "        if char in ('{', '(', '['):\n",
    "            stack.push(char)\n",
    "        elif char in ('}', ')', ']'):\n",
    "            if stack.is_empty():\n",
    "                return False\n",
    "            else:\n",
    "                left = stack.pop()\n",
    "                if (char == '}' and left != '{') or (char == ')' and left != '(') or \\\n",
    "                        (char == ']' and left != '['):\n",
    "                    return False\n",
    "    return stack.is_empty()"
   ],
   "metadata": {
    "collapsed": false,
    "ExecuteTime": {
     "end_time": "2024-02-28T14:29:52.066370400Z",
     "start_time": "2024-02-28T14:29:52.053828600Z"
    }
   },
   "id": "41d906f333f6115e",
   "execution_count": 13
  },
  {
   "cell_type": "markdown",
   "source": [
    "### Python list로 stack 구현"
   ],
   "metadata": {
    "collapsed": false
   },
   "id": "1d4b4714de87795e"
  },
  {
   "cell_type": "code",
   "outputs": [
    {
     "name": "stdout",
     "output_type": "stream",
     "text": [
      "문자열 출력: .다니습갑반 .요세하녕안"
     ]
    }
   ],
   "source": [
    "s = list()\n",
    "\n",
    "msg = input(\"문자열 입력: \")\n",
    "for char in msg:\n",
    "    s.append(char)\n",
    "\n",
    "print(\"문자열 출력: \", end='')\n",
    "while not len(s) == 0:\n",
    "    print(s.pop(), end='')"
   ],
   "metadata": {
    "collapsed": false,
    "ExecuteTime": {
     "end_time": "2024-02-28T14:36:15.033777600Z",
     "start_time": "2024-02-28T14:36:05.465684800Z"
    }
   },
   "id": "b1115f646585872c",
   "execution_count": 16
  },
  {
   "cell_type": "markdown",
   "source": [
    "### queue.LifoQueue로 구현"
   ],
   "metadata": {
    "collapsed": false
   },
   "id": "2a5e45e271c63061"
  },
  {
   "cell_type": "code",
   "outputs": [
    {
     "name": "stdout",
     "output_type": "stream",
     "text": [
      "문자열 출력: .다니습갑반 .요세하녕안"
     ]
    }
   ],
   "source": [
    "import queue\n",
    "\n",
    "s = queue.LifoQueue(maxsize=20)\n",
    "\n",
    "msg = input(\"문자열 입력: \")\n",
    "for char in msg:\n",
    "    s.put(char)\n",
    "\n",
    "print(\"문자열 출력: \", end='')\n",
    "while not s.empty():\n",
    "    print(s.get(), end='')"
   ],
   "metadata": {
    "collapsed": false,
    "ExecuteTime": {
     "end_time": "2024-02-28T14:40:52.081616300Z",
     "start_time": "2024-02-28T14:40:46.895371100Z"
    }
   },
   "id": "a2c49df5eb702b3c",
   "execution_count": 17
  },
  {
   "cell_type": "markdown",
   "source": [
    "list의 뒤를 stack top으로 구현하는 것이 효율적이다."
   ],
   "metadata": {
    "collapsed": false
   },
   "id": "2b5fa5070a524864"
  },
  {
   "cell_type": "code",
   "outputs": [
    {
     "name": "stdout",
     "output_type": "stream",
     "text": [
      "list 앞에서 stack top을 구현: 0.034009456634521484\n",
      "list 뒤에서 stack top을 구현: 0.02700209617614746\n"
     ]
    }
   ],
   "source": [
    "import time\n",
    "\n",
    "start = time.time()\n",
    "s = list()\n",
    "msg = \"안녕하세요. 반갑습니다.\"\n",
    "for i in range(10000):\n",
    "    for char in msg:\n",
    "        s.insert(0, char)\n",
    "    \n",
    "    # print(\"문자열 출력: \", end='')\n",
    "    while not len(s)==0:\n",
    "        # print(s.pop(0), end='')\n",
    "        s.pop(0)\n",
    "print(f\"list 앞에서 stack top을 구현: {time.time() - start}\")\n",
    "\n",
    "start = time.time()\n",
    "s = list()\n",
    "for i in range(10000):\n",
    "    for char in msg:\n",
    "        s.append(char)\n",
    "    \n",
    "    # print(\"문자열 출력: \", end='')\n",
    "    while not len(s) == 0:\n",
    "        # print(s.pop(), end='')\n",
    "        s.pop()\n",
    "print(f\"list 뒤에서 stack top을 구현: {time.time() - start}\")"
   ],
   "metadata": {
    "collapsed": false,
    "ExecuteTime": {
     "end_time": "2024-02-28T15:05:18.908945100Z",
     "start_time": "2024-02-28T15:05:18.842058200Z"
    }
   },
   "id": "5c656ec7706b963f",
   "execution_count": 78
  },
  {
   "cell_type": "code",
   "outputs": [
    {
     "name": "stdout",
     "output_type": "stream",
     "text": [
      "olleh5\n"
     ]
    }
   ],
   "source": [
    " def print_reverse(msg, len):\n",
    "    if len > 0:\n",
    "        print(msg[len-1], end='')\n",
    "        print_reverse(msg, len-1)\n",
    "        \n",
    "print_reverse(\"hello\", len(\"hello\"))"
   ],
   "metadata": {
    "collapsed": false,
    "ExecuteTime": {
     "end_time": "2024-02-28T15:40:44.100987Z",
     "start_time": "2024-02-28T15:40:44.088141500Z"
    }
   },
   "id": "ee9f2b61a124ad7e",
   "execution_count": 81
  }
 ],
 "metadata": {
  "kernelspec": {
   "display_name": "Python 3",
   "language": "python",
   "name": "python3"
  },
  "language_info": {
   "codemirror_mode": {
    "name": "ipython",
    "version": 2
   },
   "file_extension": ".py",
   "mimetype": "text/x-python",
   "name": "python",
   "nbconvert_exporter": "python",
   "pygments_lexer": "ipython2",
   "version": "2.7.6"
  }
 },
 "nbformat": 4,
 "nbformat_minor": 5
}
